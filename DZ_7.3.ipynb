{
 "cells": [
  {
   "cell_type": "markdown",
   "metadata": {},
   "source": [
    "# Нахождение минимума функции многих переменных методом деформируемого многогранника"
   ]
  },
  {
   "cell_type": "code",
   "execution_count": 1,
   "metadata": {},
   "outputs": [],
   "source": [
    "import numpy as np\n",
    "import math\n",
    "import copy"
   ]
  },
  {
   "cell_type": "code",
   "execution_count": 2,
   "metadata": {},
   "outputs": [],
   "source": [
    "def f(point):\n",
    "    x, y = point\n",
    "    return x**2 + x*y + y**2 - 6*x - 9*y"
   ]
  },
  {
   "cell_type": "code",
   "execution_count": 3,
   "metadata": {},
   "outputs": [],
   "source": [
    "def extremum(f, x_start, \n",
    "             step=0.1, eps=10e-6,\n",
    "             iterations=10, max_iter=0,\n",
    "             alpha=1., gamma=2., rho=-0.5, sigma=0.5):\n",
    "\n",
    "    dim = len(x_start)\n",
    "    prev_best = f(x_start)\n",
    "    it = 0\n",
    "    result = [[x_start, prev_best]]\n",
    "\n",
    "    for i in range(dim):\n",
    "        x = copy.copy(x_start)\n",
    "        x[i] = x[i] + step\n",
    "        score = f(x)\n",
    "        result.append([x, score])\n",
    "    iters = 0\n",
    "    \n",
    "    while 1:\n",
    "        result.sort(key=lambda x: x[1])\n",
    "        best = result[0][1]\n",
    "        if max_iter and iters >= max_iter:\n",
    "            return result[0]\n",
    "        iters += 1\n",
    "        if best < prev_best - eps:\n",
    "            it = 0\n",
    "            prev_best = best\n",
    "        else:\n",
    "            it += 1\n",
    "        if it >= iterations:\n",
    "            return result[0]\n",
    "\n",
    "        # центроид\n",
    "        x0 = [0.] * dim\n",
    "        for j in result[:-1]:\n",
    "            for i, c in enumerate(j[0]):\n",
    "                x0[i] += c / (len(result)-1)\n",
    "\n",
    "        # отражение\n",
    "        xr = x0 + alpha*(x0 - result[-1][0])\n",
    "        resultscore = f(xr)\n",
    "        if result[0][1] <= resultscore < result[-2][1]:\n",
    "            del result[-1]\n",
    "            result.append([xr, resultscore])\n",
    "            continue\n",
    "\n",
    "        # расширение\n",
    "        if resultscore < result[0][1]:\n",
    "            newx = x0 + gamma*(x0 - result[-1][0])\n",
    "            newscore = f(newx)\n",
    "            if newscore < resultscore:\n",
    "                del result[-1]\n",
    "                result.append([newx, newscore])\n",
    "                continue\n",
    "            else:\n",
    "                del result[-1]\n",
    "                result.append([xr, resultscore])\n",
    "                continue\n",
    "\n",
    "        # сжатие\n",
    "        xc = x0 + rho*(x0 - result[-1][0])\n",
    "        contscore = f(xc)\n",
    "        if contscore < result[-1][1]:\n",
    "            del result[-1]\n",
    "            result.append([xc, contscore])\n",
    "            continue\n",
    "\n",
    "        x1 = result[0][0]\n",
    "        nres = []\n",
    "        for j in result:\n",
    "            resultx = x1 + sigma*(j[0] - x1)\n",
    "            score = f(resultx)\n",
    "            nres.append([resultx, score])\n",
    "        res = nres\n"
   ]
  },
  {
   "cell_type": "markdown",
   "metadata": {},
   "source": [
    "Проверка: для нашей функции минимум находится в точке M[1,4], а значение функции в этой точке = -21"
   ]
  },
  {
   "cell_type": "code",
   "execution_count": 4,
   "metadata": {},
   "outputs": [
    {
     "data": {
      "text/plain": [
       "[array([0.99966268, 4.00006425]), -20.999999903762067]"
      ]
     },
     "execution_count": 4,
     "metadata": {},
     "output_type": "execute_result"
    }
   ],
   "source": [
    "extremum(f, np.array([0., 0.]))"
   ]
  }
 ],
 "metadata": {
  "kernelspec": {
   "display_name": "Python 3",
   "language": "python",
   "name": "python3"
  },
  "language_info": {
   "codemirror_mode": {
    "name": "ipython",
    "version": 3
   },
   "file_extension": ".py",
   "mimetype": "text/x-python",
   "name": "python",
   "nbconvert_exporter": "python",
   "pygments_lexer": "ipython3",
   "version": "3.6.4"
  }
 },
 "nbformat": 4,
 "nbformat_minor": 2
}
