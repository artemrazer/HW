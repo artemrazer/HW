{
 "cells": [
  {
   "cell_type": "markdown",
   "metadata": {},
   "source": [
    "# Решение уравнения sin (x) - k * x методом деления отрезка пополам"
   ]
  },
  {
   "cell_type": "code",
   "execution_count": 70,
   "metadata": {
    "collapsed": true
   },
   "outputs": [],
   "source": [
    "import math\n",
    "\n",
    "#Задавание исходной функции\n",
    "def f(x, k):\n",
    "    return abs(math.sin(x)) - k * x\n",
    "\n",
    "#Нахождение корней путём деления отрезка пополам при k > 0\n",
    "def roots(k):\n",
    "    if k > 0:\n",
    "        prec = 10 ** -8 #(задавание точности)\n",
    "        res = [0.0]\n",
    "        left = math.pi / 2\n",
    "        right = 0\n",
    "        while(k * left <= 1):\n",
    "            l = left\n",
    "            r = right\n",
    "            left += math.pi / 2\n",
    "            right += math.pi / 2\n",
    "            if(f(l, k) * f(r, k) < 0): # (проверка на получение значений с разными знаками)\n",
    "                center = (l + r) / 2 # (непосредственно деление отрезка пополам)\n",
    "                while (abs(f(center, k)) > prec): # (сравнение с заданной точностью и смена границ при необходимости)\n",
    "                    center = (l + r) / 2\n",
    "                    if(f(center, k) * f(l, k) > 0):\n",
    "                        l = center\n",
    "                    else:\n",
    "                        r = center\n",
    "                res += [center]\n",
    "        return res\n",
    "\n",
    "# Отдельное рассмотрение нестандартных значений k    \n",
    "    elif k == 0:\n",
    "        return ('pi * n')\n",
    "    \n",
    "    elif abs(k) >= 1:\n",
    "        return (0)\n",
    "    \n",
    "    else:\n",
    "        k *= -1\n",
    "        p = roots(k)\n",
    "        res = [-1 * a for a in p]\n",
    "        return res"
   ]
  },
  {
   "cell_type": "code",
   "execution_count": 71,
   "metadata": {},
   "outputs": [
    {
     "data": {
      "text/plain": [
       "'pi * n'"
      ]
     },
     "execution_count": 71,
     "metadata": {},
     "output_type": "execute_result"
    }
   ],
   "source": [
    "roots(0)"
   ]
  },
  {
   "cell_type": "code",
   "execution_count": 72,
   "metadata": {},
   "outputs": [
    {
     "data": {
      "text/plain": [
       "[0.0]"
      ]
     },
     "execution_count": 72,
     "metadata": {},
     "output_type": "execute_result"
    }
   ],
   "source": [
    "roots(5)"
   ]
  },
  {
   "cell_type": "code",
   "execution_count": 73,
   "metadata": {},
   "outputs": [
    {
     "data": {
      "text/plain": [
       "[-0.0,\n",
       " -3.079954531371736,\n",
       " -3.205751699648732,\n",
       " -6.159677991907016,\n",
       " -6.411774893486288,\n",
       " -9.238931352495033,\n",
       " -9.618351632118351,\n",
       " -12.317459082309043,\n",
       " -12.825786179098714,\n",
       " -15.394978709422954,\n",
       " -16.03441942944989,\n",
       " -18.471167525811833,\n",
       " -19.244647752047932,\n",
       " -21.545644412057673,\n",
       " -22.456950024348597,\n",
       " -24.617943422900535,\n",
       " -25.671928289806548,\n",
       " -27.687473480919692,\n",
       " -28.89037364770568,\n",
       " -30.753452978243732,\n",
       " -32.113379588348536,\n",
       " -33.81479664031806,\n",
       " -35.34255585997614,\n",
       " -36.86990178772179,\n",
       " -38.58047953907695,\n",
       " -39.91619752333243,\n",
       " -41.83181787267769,\n",
       " -42.94902210069528,\n",
       " -45.107001396463446,\n",
       " -45.957949805903176,\n",
       " -48.44460391302793]"
      ]
     },
     "execution_count": 73,
     "metadata": {},
     "output_type": "execute_result"
    }
   ],
   "source": [
    "roots(-0.02)"
   ]
  },
  {
   "cell_type": "code",
   "execution_count": 74,
   "metadata": {
    "scrolled": true
   },
   "outputs": [
    {
     "data": {
      "text/plain": [
       "[0.0,\n",
       " 2.879450092517051,\n",
       " 3.4580763951279634,\n",
       " 5.7402805616349095,\n",
       " 6.960126141556801,\n",
       " 8.547125117017051,\n",
       " 10.734450947369028]"
      ]
     },
     "execution_count": 74,
     "metadata": {},
     "output_type": "execute_result"
    }
   ],
   "source": [
    "roots(0.09)"
   ]
  },
  {
   "cell_type": "code",
   "execution_count": null,
   "metadata": {
    "collapsed": true
   },
   "outputs": [],
   "source": []
  }
 ],
 "metadata": {
  "kernelspec": {
   "display_name": "Python 3",
   "language": "python",
   "name": "python3"
  },
  "language_info": {
   "codemirror_mode": {
    "name": "ipython",
    "version": 3
   },
   "file_extension": ".py",
   "mimetype": "text/x-python",
   "name": "python",
   "nbconvert_exporter": "python",
   "pygments_lexer": "ipython3",
   "version": "3.6.3"
  }
 },
 "nbformat": 4,
 "nbformat_minor": 2
}
