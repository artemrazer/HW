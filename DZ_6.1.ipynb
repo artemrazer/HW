{
 "cells": [
  {
   "cell_type": "code",
   "execution_count": 5,
   "metadata": {
    "collapsed": true
   },
   "outputs": [],
   "source": [
    "def solution(A, b):\n",
    "    N = len(A)\n",
    "    i = 0\n",
    "    for x in A:\n",
    "        x.append(b[i])\n",
    "        i += 1\n",
    "\n",
    "# Сортировка элементов матрицы        \n",
    "    for q in range(N):\n",
    "        for i in range(q, N):\n",
    "            if abs(A[i][q]) > abs(A[q][q]):\n",
    "                A[q], A[i] = A[i], A[q]\n",
    "            else:\n",
    "                pass\n",
    "\n",
    "# Подсчёт коэффициентов и их применение, окончательное приведение матрицы к ступенчатому виду           \n",
    "        for j in range(q + 1, N):\n",
    "            p = A[j][q] / A[q][q]\n",
    "            for g in range(q, N + 1):\n",
    "                A[j][g] -=  p * A[q][g]\n",
    "                \n",
    "# Нахождение самих корней\n",
    "        x = [0 for i in range(N)]\n",
    "        x[N - 1] = A[N - 1][N] / A[N - 1][N - 1]    \n",
    "    for i in range (N - 1, -1, -1):\n",
    "        s = 0\n",
    "        for j in range(i + 1, N):\n",
    "            s += A[i][j] * x[j]\n",
    "        x[i] = (A[i][N] - s) / A[i][i]\n",
    "        \n",
    "    print (\"roots: \", x)"
   ]
  },
  {
   "cell_type": "code",
   "execution_count": 6,
   "metadata": {},
   "outputs": [
    {
     "name": "stdout",
     "output_type": "stream",
     "text": [
      "roots:  [1.0, 4.0]\n"
     ]
    }
   ],
   "source": [
    "solution([[4, 6], [2, 7]],[28, 30])"
   ]
  },
  {
   "cell_type": "code",
   "execution_count": 7,
   "metadata": {},
   "outputs": [
    {
     "name": "stdout",
     "output_type": "stream",
     "text": [
      "roots:  [1.0, 2.0, 2.0]\n"
     ]
    }
   ],
   "source": [
    "solution([[1, 7, 3], [2, 4, 5], [3, 1, 4]], [21, 20, 13])"
   ]
  },
  {
   "cell_type": "code",
   "execution_count": 8,
   "metadata": {},
   "outputs": [
    {
     "name": "stdout",
     "output_type": "stream",
     "text": [
      "roots:  [1.0, 1.0, 1.0, 1.0, 1.0, 1.0, 1.0, 1.0, 1.0, 1.0]\n"
     ]
    }
   ],
   "source": [
    "solution([[1, 1, 1, 0, 0, 0, 0, 0, 0, 0], [0, 1, 1, 1, 0, 0, 0, 0, 0, 0], [0, 0, 1, 1, 0, 0, 0, 0, 0, 0], [0, 0, 0, 1, 1, 0, 0, 0, 0, 0], [0, 0, 0, 0, 1, 1, 0, 0, 0, 0], [0, 0, 0, 0, 0, 1, 1, 0, 0, 0], [0, 0, 0, 0, 0, 0, 1, 1, 0, 0], [0, 0, 0, 0, 0, 0, 0, 1, 1, 0], [0, 0, 0, 0, 0, 0, 0, 0, 1, 1], [1, 0, 0, 0, 0, 0, 0, 0, 0, 1]],[3, 3] + [2] * 8)"
   ]
  },
  {
   "cell_type": "code",
   "execution_count": null,
   "metadata": {
    "collapsed": true
   },
   "outputs": [],
   "source": []
  }
 ],
 "metadata": {
  "kernelspec": {
   "display_name": "Python 3",
   "language": "python",
   "name": "python3"
  },
  "language_info": {
   "codemirror_mode": {
    "name": "ipython",
    "version": 3
   },
   "file_extension": ".py",
   "mimetype": "text/x-python",
   "name": "python",
   "nbconvert_exporter": "python",
   "pygments_lexer": "ipython3",
   "version": "3.6.3"
  }
 },
 "nbformat": 4,
 "nbformat_minor": 2
}
